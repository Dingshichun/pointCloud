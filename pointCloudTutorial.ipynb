{
 "cells": [
  {
   "cell_type": "markdown",
   "id": "d69613fb",
   "metadata": {},
   "source": [
    "# 3D 点云入门教程"
   ]
  },
  {
   "cell_type": "markdown",
   "id": "af20d387",
   "metadata": {},
   "source": [
    "## （一） pointNet 简介\n",
    "点云（Point Cloud）是一种在三维空间中描述物体或场景表面特性的​​离散点集合​​，每个点包含其空间坐标（X, Y, Z），并可附加其他属性（如颜色、反射强度、时间戳等）。"
   ]
  },
  {
   "cell_type": "markdown",
   "id": "219af8ac",
   "metadata": {},
   "source": [
    "### （1.1）核心特征\n",
    "1. **数据结构**  \n",
    "* **无序性**：点云中的点没有固定排列顺序，仅通过坐标定义空间位置。  \n",
    "* **属性多样性**：除坐标外，可包含 RGB 颜色（摄影测量）、反射强度（LiDAR）、法向量等属性。  \n",
    "* **海量性**：单次扫描可生成数百万至数亿个点（如激光雷达点云）  \n",
    "2. **数据来源**  \n",
    "* **激光雷达**（LiDAR）​​：通过发射激光束并计算反射时间生成高精度点云，含坐标和强度信息，适用于室外大场景（如自动驾驶、地形测绘）。  \n",
    "* **​RGB-D 相机**​​：结合深度传感器与彩色摄像头，生成带颜色信息的点云，适用于室内场景（如机器人导航）。  \n",
    "* **​结构光扫描**​​：通过投影光栅图案计算深度，常用于工业检测与文物数字化。  \n",
    "3. **点云类型**  \n",
    "* **​稀疏点云**​​：点间距较大（如全站仪采集），数据量较小。\n",
    "* **​密集点云**​​：点间距小且数量庞大（如激光扫描仪采集），细节丰富"
   ]
  },
  {
   "cell_type": "markdown",
   "id": "c8ad6e85",
   "metadata": {},
   "source": [
    "### （1.2）应用场景  \n",
    "1. **​自动驾驶**​​  \n",
    "* 通过 LiDAR 点云实现障碍物检测、高精地图构建，结合深度学习模型（如 PointNet、VoxelNet）提升环境感知精度。\n",
    "* 优势：不受光照干扰，在夜间或逆光环境下稳定性强。\n",
    "2. ​**​三维重建与测绘**​​\n",
    "* **​建筑与文物数字化**​​：扫描生成密集点云，通过泊松重建（Poisson Reconstruction）生成平滑曲面模型。\n",
    "* **​地形分析**​​：生成数字高程模型（DEM），用于城市规划与地质灾害监测。\n",
    "3. ​**​机器人技术**​​\n",
    "* 为机器人提供环境空间信息，支持避障导航、物体抓取等操作（如工业自动化、服务机器人）。\n",
    "4. **​虚拟现实（VR）与增强现实（AR）**\n",
    "* 构建真实场景的三维模型，增强沉浸式交互体验"
   ]
  },
  {
   "cell_type": "markdown",
   "id": "38672750",
   "metadata": {},
   "source": [
    "### （1.3）点云处理技术\n",
    "1. **存储格式**​​：常见格式包括 .las（测绘专用）、.pcd（PCL库标准）、.ply（支持颜色/法线）、.xyz（纯坐标文本）等。\n",
    "2. ​**​处理工具**​​：\n",
    "* ​​Open3D/PCL​​：提供滤波、配准、分割等算法库。\n",
    "* ​深度学习框架​​：PointNet++、PointRCNN 等模型实现语义分割与目标检测。\n",
    "3. ​**​关键技术挑战**​​：数据量大导致的实时处理难、硬件成本高、环境干扰（如雨雾）下的噪声滤除。"
   ]
  },
  {
   "cell_type": "markdown",
   "id": "08b52042",
   "metadata": {},
   "source": [
    "## （二）点云数据处理"
   ]
  },
  {
   "cell_type": "markdown",
   "id": "8510beac",
   "metadata": {},
   "source": [
    "### （2.1）点云可视化\n",
    "一般使用 pcd、ply、txt 这几种格式"
   ]
  },
  {
   "cell_type": "code",
   "execution_count": null,
   "id": "ef97e14a",
   "metadata": {},
   "outputs": [],
   "source": [
    "# 借助 open3d 库进行可视化\n",
    "import open3d as o3d\n",
    "import numpy as np\n",
    "\n",
    "# 通过 read_point_cloud() 函数读取点云数据\n",
    "pcd = o3d.io.read_point_cloud(\"Skull.txt\", format='xyz') # 读取 txt 格式\n",
    "# pcd1 = o3d.io.read_point_cloud(\"bunny.pcd\") # 读取 pcd 格式\n",
    "print(pcd) # 输出点云点的个数\n",
    "\n",
    "# print(np.asarray(pcd.points)) # 输出点的三维坐标\n",
    "print('给所有的点上一个统一的颜色，颜色是在RGB空间得[0，1]范围内得值')\n",
    "pcd.paint_uniform_color([0, 1, 0]) # 绿色。没有设置颜色的话就显示点云本身的颜色\n",
    "# o3d.io.write_point_cloud(\"Skull.pcd\", pcd) # 将读取到的数据转换为 pcd 格式\n",
    "o3d.visualization.draw_geometries([pcd],width=800,height=800) # 可视化并设置窗口大小"
   ]
  },
  {
   "cell_type": "markdown",
   "id": "c152279a",
   "metadata": {},
   "source": [
    "### （2.2）点云数据处理流程"
   ]
  },
  {
   "cell_type": "markdown",
   "id": "c847ffcb",
   "metadata": {},
   "source": [
    "#### (1) 数据清洗和优化\n",
    "1. **去噪与滤波​​**\n",
    "* **统计滤波​**​：基于邻域点的均值与标准差剔除离群点（如 Open3D 的 remove_statistical_outlier）。\n",
    "* **​半径滤波**​​：移除密度低于阈值的孤立点（PCL 库的 RadiusOutlierRemoval）。\n",
    "* ​**​深度学习去噪**​​：使用 CNN 或 GAN 模型智能滤除复杂噪声（如椒盐噪声）。\n",
    "2. ​​**简化与压缩**​​\n",
    "* **​体素下采样**​​：将空间划分为体素网格，保留网格中心点（Open3D 的 voxel_down_sample）。\n",
    "* **曲率采样**​​：保留曲率变化大的特征点，维持几何细节。\n",
    "3. ​**​配准**（Registration）​​\n",
    "* **​ICP 算法**​​：迭代对齐多视角点云（如 Open3D 的 ICP 模块）。\n",
    "* **​特征配准**​​：提取特征点（如 FPFH 描述子）加速匹配。\n",
    "* **正态分布变换**​：利用概率模型优化配准，适合大规模点云。"
   ]
  },
  {
   "cell_type": "markdown",
   "id": "46ef58d3",
   "metadata": {},
   "source": [
    "#### (2) 特征提取与分割\n",
    "1. **几何特征计算**​​\n",
    "* ​​法线估计​​：通过 PCA 或最小二乘法计算点云表面法线（Open3D 的 estimate_normals）。\n",
    "* ​曲率分析​​：识别表面凹凸变化区域，用于分割。\n",
    "2. ​**​分割与分类**​​  \n",
    "2.1  ​RANSAC 平面分割​​：拟合几何模型（如地面、墙面）。  \n",
    "2.2 ​聚类分割​​：  \n",
    "* ​​DBSCAN​​：基于密度分离独立物体（如行人、车辆）。\n",
    "* ​​K-Means​​：按距离划分区域。\n",
    "3. ​**​深度学习分割**​​：\n",
    "* ​​PointNet++​​：端到端语义分割（如识别道路、植被）。\n",
    "* ​实例分割模型​​：区分同类物体的不同个体（如多辆汽车）"
   ]
  },
  {
   "cell_type": "markdown",
   "id": "7b557626",
   "metadata": {},
   "source": [
    "#### (3) 配准\n",
    "就是将多个不同视角的内容进行对齐。\n",
    "1. **粗配准**​​\n",
    "* **​​4PCS 算法**​​：基于四点一致集合寻找初始变换。\n",
    "* ​**​特征匹配**​​：利用 SIFT 或 Harris 角点建立对应关系。\n",
    "2. ​**​精配准**​​\n",
    "* **​​ICP 变种**​​：如 Point-to-Plane ICP，提高配准精度。\n",
    "* ​**​优化方法**​​：结合 LM 算法（Levenberg-Marquardt）或粒子群优化（PSO）最小化误差。"
   ]
  },
  {
   "cell_type": "markdown",
   "id": "f5a3b2e8",
   "metadata": {},
   "source": [
    "#### (4) 三维重建和应用\n",
    "1. **表面重建**​​  \n",
    "​​泊松重建​​：生成平滑封闭曲面（Open3D 的 PoissonReconstruction）。  \n",
    "​​Alpha Shapes​​：提取点云边界轮廓。\n",
    "2. **网格生成**  \n",
    "* Ball Pivoting 算法​​：基于滚球原理生成三角网格  \n",
    "3. **高级应用**  \n",
    "* 自动驾驶​​：融合 LiDAR 与摄像头数据，实时障碍物检测（如 VoxelNet）。\n",
    "* ​​工业检测​​：通过点云比对分析零件形变。\n",
    "* ​文化遗产数字化​​：扫描文物并补全缺损（如PF-Net点云补全模型）"
   ]
  },
  {
   "cell_type": "markdown",
   "id": "f5cd9df3",
   "metadata": {},
   "source": [
    "#### (5) 预处理代码实现"
   ]
  },
  {
   "cell_type": "code",
   "execution_count": null,
   "id": "db90ee6c",
   "metadata": {},
   "outputs": [],
   "source": [
    "import open3d as o3d\n",
    "\n",
    "# 1. 读取数据\n",
    "pcd = o3d.io.read_point_cloud(\"Skull.pcd\")\n",
    "\n",
    "# 2. 去噪\n",
    "# nb_neighbors 是邻域点数，一般 20~50，std_ratio 是标准差倍数阈值（值越小过滤越严格）\n",
    "pcd_clean = pcd.remove_statistical_outlier(nb_neighbors=20, std_ratio=2.0)[0]\n",
    "# 可视化去噪后的点云数据\n",
    "o3d.visualization.draw_geometries([pcd_clean], width=800,height=800)\n",
    "\n",
    "# 3. 下采样，减少数据量\n",
    "pcd_down = pcd_clean.voxel_down_sample(voxel_size=0.02)\n",
    "# 可视化下采样后的点云数据\n",
    "o3d.visualization.draw_geometries([pcd_down], width=800,height=800)\n",
    "\n",
    "# 4. 法线估计\n",
    "pcd_down.estimate_normals(\n",
    "    search_param=o3d.geometry.KDTreeSearchParamHybrid(radius=0.1, max_nn=30)\n",
    ")\n",
    "# 可视化带法线的点云\n",
    "o3d.visualization.draw_geometries([pcd_down], width=800,height=800,point_show_normal=True)\n",
    "\n",
    "# 5. 保存处理结果\n",
    "# o3d.io.write_point_cloud(\"processed_scene.ply\", pcd_down)"
   ]
  },
  {
   "cell_type": "markdown",
   "id": "af4ac1fd",
   "metadata": {},
   "source": [
    "## (三) 实战练习"
   ]
  },
  {
   "cell_type": "code",
   "execution_count": 4,
   "id": "03e82b7d",
   "metadata": {},
   "outputs": [],
   "source": [
    "# 生成随机点云并可视化\n",
    "import numpy as np\n",
    "import open3d as o3d\n",
    "\n",
    "# 生成随机点云\n",
    "num_points = 1000  # 点的数量\n",
    "points = np.random.rand(num_points, 3)  # 随机生成点云，范围在[0, 1]之间\n",
    "\n",
    "# 创建点云对象\n",
    "pcd = o3d.geometry.PointCloud()\n",
    "pcd.points = o3d.utility.Vector3dVector(points)\n",
    "\n",
    "# 可视化点云\n",
    "o3d.visualization.draw_geometries([pcd],width=800,height=800)"
   ]
  }
 ],
 "metadata": {
  "kernelspec": {
   "display_name": "practise",
   "language": "python",
   "name": "python3"
  },
  "language_info": {
   "codemirror_mode": {
    "name": "ipython",
    "version": 3
   },
   "file_extension": ".py",
   "mimetype": "text/x-python",
   "name": "python",
   "nbconvert_exporter": "python",
   "pygments_lexer": "ipython3",
   "version": "3.11.9"
  }
 },
 "nbformat": 4,
 "nbformat_minor": 5
}
